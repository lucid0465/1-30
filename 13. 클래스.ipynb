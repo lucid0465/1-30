{
 "cells": [
  {
   "cell_type": "markdown",
   "id": "a6db8814",
   "metadata": {},
   "source": [
    "## 1. 클래스\n",
    "\n",
    "### 1) 클래스 정의"
   ]
  },
  {
   "cell_type": "code",
   "execution_count": 1,
   "id": "c16bee90",
   "metadata": {},
   "outputs": [
    {
     "name": "stdout",
     "output_type": "stream",
     "text": [
      "10\n",
      "20\n",
      "30\n"
     ]
    }
   ],
   "source": [
    "# 함수로 작성했을 때\n",
    "# 예제_1) # 함수를 호출할때마다 5씩 증가해서 결과값을 저장\n",
    "# 예제_2) # 함수를 호출할때마다 10씩 증가해서 결과값을 저장\n",
    "# 예제_3) # 함수를 호출할때마다 20씩 증가해서 결과값을 저장\n",
    "\n",
    "result1 = 0\n",
    "result2 = 0\n",
    "result3 = 0\n",
    "\n",
    "def add1(num):\n",
    "   return result1 +num\n",
    "\n",
    "def add2(num):\n",
    "   return result2 +num\n",
    "\n",
    "def add3(num):\n",
    "   return result3 +num\n",
    "    \n",
    "result1 = add1(5)\n",
    "result1 = add1(5)\n",
    "print(result1)\n",
    "\n",
    "result2 = add1(10)\n",
    "result2 = add1(10)\n",
    "print(result2)\n",
    "\n",
    "result3 = add1(20)\n",
    "result3 = add1(20)\n",
    "print(result3)\n",
    "\n"
   ]
  },
  {
   "cell_type": "code",
   "execution_count": 22,
   "id": "cd0d9341",
   "metadata": {},
   "outputs": [
    {
     "name": "stdout",
     "output_type": "stream",
     "text": [
      "5\n",
      "10\n",
      "10\n",
      "20\n",
      "20\n",
      "40\n",
      "-------------------------\n",
      "10\n",
      "20\n",
      "40\n",
      "-------------------------\n",
      "10\n",
      "20\n",
      "30\n",
      "100 해피\n",
      "200 흰둥이\n",
      "300 test3\n"
     ]
    }
   ],
   "source": [
    "# 클래스로 작성했을 때\n",
    "\n",
    "class AddClass:\n",
    "    def __init__(self):\n",
    "        self.result = 0\n",
    "        self.var = \"\"\n",
    "    def add(self, num):\n",
    "        self.result += num\n",
    "        return self.result\n",
    "\n",
    "result1 = AddClass()\n",
    "print(result1.add(5))   \n",
    "print(result1.add(5))\n",
    "\n",
    "\n",
    "\n",
    "result2 = AddClass()\n",
    "print(result2.add(10))\n",
    "print(result2.add(10))\n",
    "\n",
    "\n",
    "\n",
    "\n",
    "result3 = AddClass()\n",
    "print(result3.add(20))\n",
    "print(result3.add(20))\n",
    "\n",
    "\n",
    "print(\"-------------------------\")\n",
    "print(result1.result)\n",
    "print(result2.result)\n",
    "print(result3.result)\n",
    "\n",
    "print(\"-------------------------\")\n",
    "a = 10\n",
    "b = 20\n",
    "c = 30\n",
    "\n",
    "result1.result = 100\n",
    "result2.result = 200\n",
    "result3.result = 300\n",
    "\n",
    "result1.var = \"해피\"\n",
    "result2.var = \"흰둥이\"\n",
    "result3.var = \"test3\"\n",
    "\n",
    "print(a)\n",
    "print(b)\n",
    "print(c)\n",
    "print(result1.result, result1.var)\n",
    "print(result2.result, result2.var)\n",
    "print(result3.result, result3.var)\n",
    "\n"
   ]
  },
  {
   "cell_type": "code",
   "execution_count": 16,
   "id": "27f3978b",
   "metadata": {},
   "outputs": [
    {
     "name": "stdout",
     "output_type": "stream",
     "text": [
      "Person class의 default_print 메서드를 실행하였습니다.\n"
     ]
    },
    {
     "ename": "AttributeError",
     "evalue": "'Person' object has no attribute 'default_return'",
     "output_type": "error",
     "traceback": [
      "\u001b[1;31m---------------------------------------------------------------------------\u001b[0m",
      "\u001b[1;31mAttributeError\u001b[0m                            Traceback (most recent call last)",
      "Cell \u001b[1;32mIn[16], line 10\u001b[0m\n\u001b[0;32m      7\u001b[0m p1 \u001b[38;5;241m=\u001b[39m Person()\n\u001b[0;32m      9\u001b[0m p1\u001b[38;5;241m.\u001b[39mdefault_print()\n\u001b[1;32m---> 10\u001b[0m \u001b[38;5;28mprint\u001b[39m(\u001b[43mp1\u001b[49m\u001b[38;5;241;43m.\u001b[39;49m\u001b[43mdefault_return\u001b[49m())\n",
      "\u001b[1;31mAttributeError\u001b[0m: 'Person' object has no attribute 'default_return'"
     ]
    }
   ],
   "source": [
    "class Person:\n",
    "    def default_print(self):\n",
    "        print(\"Person class의 default_print 메서드를 실행하였습니다.\")\n",
    "    def dafault_return(self):\n",
    "        return \"Person class의 default_return 메서드를 실행하였습니다.\"\n",
    "    \n",
    "p1 = Person()\n",
    "\n",
    "p1.default_print()\n",
    "print(p1.default_return())"
   ]
  },
  {
   "cell_type": "markdown",
   "id": "95cb405e",
   "metadata": {},
   "source": [
    "### 2) 인스턴스 변수"
   ]
  },
  {
   "cell_type": "code",
   "execution_count": 41,
   "id": "79a26a85",
   "metadata": {},
   "outputs": [
    {
     "ename": "NameError",
     "evalue": "name 'name' is not defined",
     "output_type": "error",
     "traceback": [
      "\u001b[1;31m---------------------------------------------------------------------------\u001b[0m",
      "\u001b[1;31mNameError\u001b[0m                                 Traceback (most recent call last)",
      "Cell \u001b[1;32mIn[41], line 14\u001b[0m\n\u001b[0;32m     11\u001b[0m         \u001b[38;5;28mprint\u001b[39m(\u001b[38;5;124mf\u001b[39m\u001b[38;5;124m\"\u001b[39m\u001b[38;5;124m학번 : \u001b[39m\u001b[38;5;132;01m{\u001b[39;00m\u001b[38;5;28mself\u001b[39m\u001b[38;5;241m.\u001b[39mid\u001b[38;5;132;01m}\u001b[39;00m\u001b[38;5;124m, 이름 : \u001b[39m\u001b[38;5;132;01m{\u001b[39;00m\u001b[38;5;28mself\u001b[39m\u001b[38;5;241m.\u001b[39mname\u001b[38;5;132;01m}\u001b[39;00m\u001b[38;5;124m, 학과 : \u001b[39m\u001b[38;5;132;01m{\u001b[39;00m\u001b[38;5;28mself\u001b[39m\u001b[38;5;241m.\u001b[39mmajor\u001b[38;5;132;01m}\u001b[39;00m\u001b[38;5;124m, 연락처:\u001b[39m\u001b[38;5;132;01m{\u001b[39;00m\u001b[38;5;28mself\u001b[39m\u001b[38;5;241m.\u001b[39mphone\u001b[38;5;132;01m}\u001b[39;00m\u001b[38;5;124m\"\u001b[39m)\n\u001b[0;32m     13\u001b[0m p1 \u001b[38;5;241m=\u001b[39m Person()\n\u001b[1;32m---> 14\u001b[0m \u001b[43mp1\u001b[49m\u001b[38;5;241;43m.\u001b[39;49m\u001b[43mset_data\u001b[49m\u001b[43m(\u001b[49m\u001b[38;5;241;43m1001\u001b[39;49m\u001b[43m,\u001b[49m\u001b[43m \u001b[49m\u001b[38;5;124;43m\"\u001b[39;49m\u001b[38;5;124;43m홍길동\u001b[39;49m\u001b[38;5;124;43m\"\u001b[39;49m\u001b[43m,\u001b[49m\u001b[43m \u001b[49m\u001b[38;5;124;43m\"\u001b[39;49m\u001b[38;5;124;43m경영학\u001b[39;49m\u001b[38;5;124;43m\"\u001b[39;49m\u001b[43m,\u001b[49m\u001b[43m \u001b[49m\u001b[38;5;124;43m\"\u001b[39;49m\u001b[38;5;124;43m010\u001b[39;49m\u001b[38;5;124;43m\"\u001b[39;49m\u001b[43m)\u001b[49m\n\u001b[0;32m     15\u001b[0m p1\u001b[38;5;241m.\u001b[39mprn_data()\n\u001b[0;32m     17\u001b[0m p1\u001b[38;5;241m.\u001b[39mphone \u001b[38;5;241m=\u001b[39m \u001b[38;5;124m\"\u001b[39m\u001b[38;5;124m02\u001b[39m\u001b[38;5;124m\"\u001b[39m\n",
      "Cell \u001b[1;32mIn[41], line 4\u001b[0m, in \u001b[0;36mPerson.set_data\u001b[1;34m(self, id, nane, major, phone)\u001b[0m\n\u001b[0;32m      2\u001b[0m \u001b[38;5;28;01mdef\u001b[39;00m \u001b[38;5;21mset_data\u001b[39m(\u001b[38;5;28mself\u001b[39m, \u001b[38;5;28mid\u001b[39m, nane, major, phone):\n\u001b[0;32m      3\u001b[0m     \u001b[38;5;28mself\u001b[39m\u001b[38;5;241m.\u001b[39mid \u001b[38;5;241m=\u001b[39m \u001b[38;5;28mid\u001b[39m\n\u001b[1;32m----> 4\u001b[0m     \u001b[38;5;28mself\u001b[39m\u001b[38;5;241m.\u001b[39mname \u001b[38;5;241m=\u001b[39m \u001b[43mname\u001b[49m\n\u001b[0;32m      5\u001b[0m     \u001b[38;5;28mself\u001b[39m\u001b[38;5;241m.\u001b[39mmajor \u001b[38;5;241m=\u001b[39m major\n\u001b[0;32m      6\u001b[0m     \u001b[38;5;28mself\u001b[39m\u001b[38;5;241m.\u001b[39mphone \u001b[38;5;241m=\u001b[39m phone\n",
      "\u001b[1;31mNameError\u001b[0m: name 'name' is not defined"
     ]
    }
   ],
   "source": [
    "class Person:\n",
    "    def set_data(self, id, nane, major, phone):\n",
    "        self.id = id\n",
    "        self.name = name\n",
    "        self.major = major\n",
    "        self.phone = phone\n",
    "        \n",
    "      #  print(f\"학번 : {self,id}, 이름 : {self.name}, 학과 : {self.major}, 연락처 : {self.phone}\")\n",
    "        \n",
    "    def prin_data(self):\n",
    "        print(f\"학번 : {self.id}, 이름 : {self.name}, 학과 : {self.major}, 연락처:{self.phone}\")\n",
    "        \n",
    "p1 = Person()\n",
    "p1.set_data(1001, \"홍길동\", \"경영학\", \"010\")\n",
    "p1.prn_data()\n",
    "\n",
    "p1.phone = \"02\"\n",
    "print(\"인스턴스 p1의 phone 값 : \" + p1.phone)\n"
   ]
  },
  {
   "cell_type": "markdown",
   "id": "16517398",
   "metadata": {},
   "source": [
    "### 3) 클래스의 인스턴스 변수 확인"
   ]
  },
  {
   "cell_type": "code",
   "execution_count": 42,
   "id": "ff24ace4",
   "metadata": {},
   "outputs": [
    {
     "name": "stdout",
     "output_type": "stream",
     "text": [
      "True\n",
      "True\n",
      "True\n",
      "False\n",
      "False\n",
      "True\n"
     ]
    }
   ],
   "source": [
    "class Person:\n",
    "    pass\n",
    "class ClubMember(Person):\n",
    "    pass\n",
    "class Subject():\n",
    "    pass\n",
    "p, c, s = Person(), ClubMember(), Subject()\n",
    "print(isinstance(p, Person))\n",
    "print(isinstance(c, ClubMember))\n",
    "print(isinstance(c, Person))\n",
    "print(isinstance(p, ClubMember))\n",
    "print(isinstance(s, Person))\n",
    "print(isinstance(p, object))"
   ]
  },
  {
   "cell_type": "markdown",
   "id": "a4f40770",
   "metadata": {},
   "source": [
    "### 4) 캡슐화"
   ]
  },
  {
   "cell_type": "code",
   "execution_count": 2,
   "id": "b95de63c",
   "metadata": {},
   "outputs": [
    {
     "name": "stdout",
     "output_type": "stream",
     "text": [
      "이름 : 홍길동, 나이 : 30\n",
      "홍길동 -30\n",
      "이름 : 테스트, 나이 : -35\n"
     ]
    }
   ],
   "source": [
    "class Person:\n",
    "    def set_data(self, name, age):\n",
    "        self.name = name\n",
    "        self.age = age\n",
    "        print(f\"이름 : {self.name}, 나이 : {self.age}\")\n",
    "        \n",
    "p1 = Person()\n",
    "p1.set_data(\"홍길동\", 30)\n",
    "p1.age = -30\n",
    "print(p1.name, p1.age)\n",
    "\n",
    "p1.set_data(\"테스트\", -35)"
   ]
  },
  {
   "cell_type": "code",
   "execution_count": 11,
   "id": "6e058a4f",
   "metadata": {},
   "outputs": [
    {
     "name": "stdout",
     "output_type": "stream",
     "text": [
      "이름 : 홍길동, 나이 : 30\n",
      "25\n"
     ]
    },
    {
     "ename": "AttributeError",
     "evalue": "'Person' object has no attribute '__age'",
     "output_type": "error",
     "traceback": [
      "\u001b[1;31m---------------------------------------------------------------------------\u001b[0m",
      "\u001b[1;31mAttributeError\u001b[0m                            Traceback (most recent call last)",
      "Cell \u001b[1;32mIn[11], line 18\u001b[0m\n\u001b[0;32m     15\u001b[0m \u001b[38;5;28mprint\u001b[39m(p1\u001b[38;5;241m.\u001b[39mget__age())\n\u001b[0;32m     17\u001b[0m p1\u001b[38;5;241m.\u001b[39m_age \u001b[38;5;241m=\u001b[39m \u001b[38;5;241m35\u001b[39m\n\u001b[1;32m---> 18\u001b[0m \u001b[38;5;28mprint\u001b[39m(\u001b[43mp1\u001b[49m\u001b[38;5;241;43m.\u001b[39;49m\u001b[43m__age\u001b[49m)\n\u001b[0;32m     19\u001b[0m \u001b[38;5;28mprint\u001b[39m(p1\u001b[38;5;241m.\u001b[39mget_age())\n\u001b[0;32m     21\u001b[0m p1\u001b[38;5;241m.\u001b[39m_Person__age \u001b[38;5;241m=\u001b[39m \u001b[38;5;241m-\u001b[39m\u001b[38;5;241m30\u001b[39m\n",
      "\u001b[1;31mAttributeError\u001b[0m: 'Person' object has no attribute '__age'"
     ]
    }
   ],
   "source": [
    "# setter/getter 사용 예제\n",
    "class Person:\n",
    "    def __init__(self, name, age):\n",
    "        self.__name = name\n",
    "        self.__age = age\n",
    "        print(f\"이름 : {self.__name}, 나이 : {self.__age}\")\n",
    "    def set_age(self, age):\n",
    "        if age > 0:\n",
    "            self.__age = age\n",
    "    def get__age(self):\n",
    "        return self.__age\n",
    "    \n",
    "p1 = Person(\"홍길동\", 30)\n",
    "p1.set_age(25)\n",
    "print(p1.get__age())\n",
    "\n",
    "p1._age = 35\n",
    "print(p1.__age)\n",
    "print(p1.get_age())\n",
    "\n",
    "p1._Person__age = -30\n",
    "print(p1.get_age())\n",
    "\n",
    "\n",
    "dir(p1)"
   ]
  },
  {
   "cell_type": "markdown",
   "id": "9907cc52",
   "metadata": {},
   "source": [
    "## 2. 생성자\n",
    "\n",
    "### 1) 인자값 없는 생성자"
   ]
  },
  {
   "cell_type": "code",
   "execution_count": 12,
   "id": "cb77ea57",
   "metadata": {},
   "outputs": [
    {
     "name": "stdout",
     "output_type": "stream",
     "text": [
      "Person class의 생성자(초기 메서드)가 실행되었습니다.\n"
     ]
    }
   ],
   "source": [
    "class Person:\n",
    "    def __init__(self):\n",
    "        print(\"Person class의 생성자(초기 메서드)가 실행되었습니다.\")\n",
    "        \n",
    "p1 = Person()"
   ]
  },
  {
   "cell_type": "markdown",
   "id": "77ca14e2",
   "metadata": {},
   "source": [
    "### 2) 인자값 있는 생성자"
   ]
  },
  {
   "cell_type": "code",
   "execution_count": 20,
   "id": "a114cf02",
   "metadata": {},
   "outputs": [
    {
     "name": "stdout",
     "output_type": "stream",
     "text": [
      "학번 : 1001, 이름 : 홍길동, 학과 : 경영학, 연락처 : 010\n",
      "학번 : 2001, 이름 : 강감찬, 학과 : 전자공학, 연락처 : 02\n",
      "011\n",
      "02\n",
      "30\n",
      "['__class__', '__delattr__', '__dict__', '__dir__', '__doc__', '__eq__', '__format__', '__ge__', '__getattribute__', '__gt__', '__hash__', '__init__', '__init_subclass__', '__le__', '__lt__', '__module__', '__ne__', '__new__', '__reduce__', '__reduce_ex__', '__repr__', '__setattr__', '__sizeof__', '__str__', '__subclasshook__', '__weakref__', 'id', 'major', 'name', 'phone', 'phone2']\n",
      "_______________________________________________________\n",
      "['__class__', '__delattr__', '__dict__', '__dir__', '__doc__', '__eq__', '__format__', '__ge__', '__getattribute__', '__gt__', '__hash__', '__init__', '__init_subclass__', '__le__', '__lt__', '__module__', '__ne__', '__new__', '__reduce__', '__reduce_ex__', '__repr__', '__setattr__', '__sizeof__', '__str__', '__subclasshook__', '__weakref__', 'id', 'major', 'name', 'phone']\n"
     ]
    }
   ],
   "source": [
    "class Person:\n",
    "    def __init__(self, id, name, major, phone):\n",
    "        self.id = id\n",
    "        self.name = name\n",
    "        self.major = major\n",
    "        self.phone = phone\n",
    "        print(f\"학번 : {id}, 이름 : {name}, 학과 : {major}, 연락처 : {self.phone}\")\n",
    "#         print(f\"학번 : {self.id}, 이름 : {self.name}, 학과 : {self.major}, 연락처 : {self.phone}\")\n",
    "\n",
    "p1 = Person(1001, \"홍길동\", \"경영학\", \"010\")\n",
    "p2 = Person(2001, \"강감찬\", \"전자공학\", \"02\")\n",
    "\n",
    "p1.phone = \"011\"\n",
    "print(p1.phone)\n",
    "\n",
    "print(p2.phone)\n",
    "\n",
    "p1.phone2 = 30\n",
    "print(p1.phone2)\n",
    "\n",
    "\n",
    "\n",
    "print(dir(p1))\n",
    "print(\"_______________________________________________________\")\n",
    "print(dir(p2))\n"
   ]
  },
  {
   "cell_type": "markdown",
   "id": "f3073fdd",
   "metadata": {},
   "source": [
    "### 3) 상속"
   ]
  },
  {
   "cell_type": "code",
   "execution_count": 21,
   "id": "8d93aae2",
   "metadata": {},
   "outputs": [
    {
     "name": "stdout",
     "output_type": "stream",
     "text": [
      "['__class__', '__delattr__', '__dict__', '__dir__', '__doc__', '__eq__', '__format__', '__ge__', '__getattribute__', '__gt__', '__hash__', '__init__', '__init_subclass__', '__le__', '__lt__', '__module__', '__ne__', '__new__', '__reduce__', '__reduce_ex__', '__repr__', '__setattr__', '__sizeof__', '__str__', '__subclasshook__', '__weakref__', 'ptest']\n",
      "---------------------------------\n",
      "['__class__', '__delattr__', '__dict__', '__dir__', '__doc__', '__eq__', '__format__', '__ge__', '__getattribute__', '__gt__', '__hash__', '__init__', '__init_subclass__', '__le__', '__lt__', '__module__', '__ne__', '__new__', '__reduce__', '__reduce_ex__', '__repr__', '__setattr__', '__sizeof__', '__str__', '__subclasshook__', '__weakref__', 'ctest', 'ptest']\n"
     ]
    }
   ],
   "source": [
    "# 기본 구문\n",
    "\n",
    "class Person:\n",
    "    def ptest():\n",
    "        pass\n",
    "    \n",
    "class ClubMember(Person):\n",
    "    def ctest(self):\n",
    "        pass\n",
    "    \n",
    "print(dir(Person))\n",
    "print(\"---------------------------------\")\n",
    "print(dir(ClubMember))\n"
   ]
  },
  {
   "cell_type": "code",
   "execution_count": 22,
   "id": "c8ac2a06",
   "metadata": {},
   "outputs": [
    {
     "name": "stdout",
     "output_type": "stream",
     "text": [
      "학번 : 1001, 이름 : 홍길동, 학과 : 경영학\n",
      "홍길동 학생은 프로그램 개발 동아리 회원입니다.\n"
     ]
    }
   ],
   "source": [
    "# 부모클래스 생성자 예제\n",
    "\n",
    "class Person:\n",
    "    def __init__(self, id, name, major):\n",
    "        self.id = id\n",
    "        self.name = name\n",
    "        self.major = major\n",
    "        print(f\"학번 : {self.id}, 이름 : {self.name}, 학과 : {self.major}\")\n",
    "        \n",
    "class ClubMember(Person):\n",
    "    def club(self, clubname):\n",
    "        self.clubname = clubname\n",
    "        print(f\"{self.name} 학생은 {self.clubname} 동아리 회원입니다.\")\n",
    "    \n",
    "p = Person(100, \"홍길동\", \"경영학\")\n",
    "    \n",
    "c1 = ClubMember(1001, \"홍길동\", \"경영학\")\n",
    "c1.club(\"프로그램 개발\")"
   ]
  },
  {
   "cell_type": "code",
   "execution_count": 24,
   "id": "07a51ab6",
   "metadata": {},
   "outputs": [
    {
     "name": "stdout",
     "output_type": "stream",
     "text": [
      "True\n",
      "False\n",
      "True\n",
      "True\n"
     ]
    }
   ],
   "source": [
    "# 상속관계 확인\n",
    "\n",
    "class Person:\n",
    "    pass\n",
    "class ClubMember(Person):\n",
    "    pass\n",
    "p = Person()\n",
    "c = ClubMember()\n",
    "print(issubclass(ClubMember, Person))\n",
    "print(issubclass(Person, ClubMember))\n",
    "print(issubclass(Person, object))\n",
    "print(issubclass(ClubMember, object))"
   ]
  },
  {
   "cell_type": "code",
   "execution_count": 29,
   "id": "cd090ffe",
   "metadata": {},
   "outputs": [
    {
     "name": "stdout",
     "output_type": "stream",
     "text": [
      "홍길동 학생은 프로그램 개발 동아리 회원입니다.\n"
     ]
    }
   ],
   "source": [
    "# 메서드 재정의\n",
    "\n",
    "class Person:\n",
    "    def __init__(self, name):\n",
    "        self.name = name\n",
    "    def info(self):\n",
    "        print(f\"이름 : {self.name}\")\n",
    "        \n",
    "class ClubMember(Person):\n",
    "    def club(self, clubname):\n",
    "        self.clubname = clubname\n",
    "    def info(self):\n",
    "         print(f\"{self.name} 학생은 {self.clubname} 동아리 회원입니다.\")\n",
    "        \n",
    "        \n",
    "c1 = ClubMember(\"홍길동\")\n",
    "c1.club(\"프로그램 개발\")\n",
    "c1.info()"
   ]
  },
  {
   "cell_type": "markdown",
   "id": "5f83021d",
   "metadata": {},
   "source": [
    "### 4. 클래스 변수"
   ]
  },
  {
   "cell_type": "code",
   "execution_count": 31,
   "id": "f1957c8b",
   "metadata": {},
   "outputs": [
    {
     "name": "stdout",
     "output_type": "stream",
     "text": [
      "0\n",
      "-----------인스턴스 생성 후----------\n",
      "1\n",
      "1\n",
      "2\n",
      "2\n",
      "2\n"
     ]
    }
   ],
   "source": [
    "class Person:\n",
    "    num = 0\n",
    "    def __init__(self):\n",
    "        Person.num += 1\n",
    "    \n",
    "print(Person.num)\n",
    "print(\"-----------인스턴스 생성 후----------\")\n",
    "p1 = Person()\n",
    "print(Person.num)\n",
    "print(p1.num)\n",
    "\n",
    "p2 = Person()\n",
    "print(Person.num)\n",
    "print(p1.num)\n",
    "print(p2.num)"
   ]
  },
  {
   "cell_type": "markdown",
   "id": "f0954f00",
   "metadata": {},
   "source": [
    "### 5. 다양한 메서드\n",
    "\n",
    "## 1) 클래스 메서드"
   ]
  },
  {
   "cell_type": "code",
   "execution_count": 44,
   "id": "26f3fd9f",
   "metadata": {},
   "outputs": [
    {
     "name": "stdout",
     "output_type": "stream",
     "text": [
      "0\n",
      "-----------------------\n",
      "95\n",
      "95\n",
      "95\n",
      "95\n",
      "200\n",
      "200\n",
      "500\n"
     ]
    }
   ],
   "source": [
    "class SumPoint:\n",
    "    total = 0\n",
    "    def __init__(self, point):\n",
    "        self.point = point\n",
    "        SumPoint.total += point\n",
    "        \n",
    "    @classmethod\n",
    "    def getsum(cls):\n",
    "        print(cls.total)\n",
    "        \n",
    "\n",
    "SumPoint.getsum()\n",
    "s1 = SumPoint(95)\n",
    "\n",
    "print(\"-----------------------\")\n",
    "\n",
    "print(SumPoint.total)\n",
    "\n",
    "SumPoint.getsum()\n",
    "\n",
    "print(s1.total)\n",
    "\n",
    "s1.getsum()\n",
    "\n",
    "SumPoint.total = 200\n",
    "SumPoint.getsum()\n",
    "\n",
    "s1.total = 500\n",
    "\n",
    "\n",
    "\n",
    "s1.getsum()\n",
    "print(s1.total)\n",
    "\n",
    "\n"
   ]
  },
  {
   "cell_type": "code",
   "execution_count": 45,
   "id": "7e596919",
   "metadata": {},
   "outputs": [
    {
     "name": "stdout",
     "output_type": "stream",
     "text": [
      "20\n",
      "4\n"
     ]
    }
   ],
   "source": [
    "# 클래스 메서드 상속 예제\n",
    "\n",
    "class ParentPoint:\n",
    "    point = 1\n",
    "    \n",
    "    @classmethod\n",
    "    def mul(cls, num):\n",
    "        return cls.point * num\n",
    "    \n",
    "class ChildPoint(ParentPoint):\n",
    "    point = 5\n",
    "    \n",
    "print(ChildPoint.mul(4))\n",
    "\n",
    "print(ParentPoint.mul(4))\n",
    "\n"
   ]
  },
  {
   "cell_type": "markdown",
   "id": "666213d7",
   "metadata": {},
   "source": [
    "### 2) 정적 메서드"
   ]
  },
  {
   "cell_type": "code",
   "execution_count": 46,
   "id": "a9110b41",
   "metadata": {},
   "outputs": [
    {
     "name": "stdout",
     "output_type": "stream",
     "text": [
      "60\n",
      "60\n"
     ]
    }
   ],
   "source": [
    "# 정적 메서드\n",
    "\n",
    "class SumPoint:\n",
    "    @staticmethod\n",
    "    def plus(a,b,c):\n",
    "        print(a+b+c)\n",
    "\n",
    "SumPoint.plus(10,20,30)\n",
    "\n",
    "s1 = SumPoint()\n",
    "s1.plus(10,20,30)\n"
   ]
  },
  {
   "cell_type": "markdown",
   "id": "64c525b6",
   "metadata": {},
   "source": [
    "### 3) 문자열화 메서드 / 인스턴스 속"
   ]
  },
  {
   "cell_type": "code",
   "execution_count": 53,
   "id": "56a6fc9a",
   "metadata": {},
   "outputs": [
    {
     "name": "stdout",
     "output_type": "stream",
     "text": [
      "학번 : 1001, 이름: 홍길동, 학과: 경영학\n"
     ]
    }
   ],
   "source": [
    "class Person:\n",
    "    def __init__(self, id, name, major):\n",
    "        self.id = id\n",
    "        self.name = name\n",
    "        self.major = major\n",
    "    def __str__(self):\n",
    "        return f\"학번 : {self.id}, 이름: {self.name}, 학과: {self.major}\"\n",
    "    \n",
    "p1 = Person(1001, \"홍길동\",\"경영학\")\n",
    "print(p1)\n"
   ]
  },
  {
   "cell_type": "code",
   "execution_count": null,
   "id": "1049ec4b",
   "metadata": {},
   "outputs": [],
   "source": []
  },
  {
   "cell_type": "code",
   "execution_count": null,
   "id": "8f7ed755",
   "metadata": {},
   "outputs": [],
   "source": []
  },
  {
   "cell_type": "code",
   "execution_count": null,
   "id": "f03d7aa1",
   "metadata": {},
   "outputs": [],
   "source": []
  }
 ],
 "metadata": {
  "kernelspec": {
   "display_name": "Python 3 (ipykernel)",
   "language": "python",
   "name": "python3"
  },
  "language_info": {
   "codemirror_mode": {
    "name": "ipython",
    "version": 3
   },
   "file_extension": ".py",
   "mimetype": "text/x-python",
   "name": "python",
   "nbconvert_exporter": "python",
   "pygments_lexer": "ipython3",
   "version": "3.10.6"
  }
 },
 "nbformat": 4,
 "nbformat_minor": 5
}
